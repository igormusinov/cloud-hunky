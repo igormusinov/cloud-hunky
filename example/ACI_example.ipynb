{
 "cells": [
  {
   "cell_type": "code",
   "execution_count": 1,
   "metadata": {},
   "outputs": [
    {
     "name": "stdout",
     "output_type": "stream",
     "text": [
      "1.1.20\n",
      "1.4.1\n",
      "2.1.0\n"
     ]
    }
   ],
   "source": [
    "import azure.common\n",
    "import azure.mgmt.containerinstance\n",
    "import azure.mgmt.resource\n",
    "\n",
    "print(azure.common.__version__)\n",
    "print(azure.mgmt.containerinstance.__version__)\n",
    "print(azure.mgmt.resource.__version__)\n",
    "# azure-common>=1.1.18\n",
    "# azure-mgmt-containerinstance>=1.4.1\n",
    "# azure-mgmt-resource>=2.1.0\n",
    "\n",
    "from cloudhunky.aci_worker import ACIWorker\n",
    "from cloudhunky.util import get_afs_creds"
   ]
  },
  {
   "cell_type": "code",
   "execution_count": 10,
   "metadata": {},
   "outputs": [
    {
     "name": "stderr",
     "output_type": "stream",
     "text": [
      "INFO:root:Authenticating with Azure using credentials in file at /home/igor/.azure/azure_creds\n",
      "INFO:adal-python:6d194355-e14f-4276-8980-ecb77f1f2d8e - TokenRequest:Getting token with client credentials.\n",
      "INFO:adal-python:6d194355-e14f-4276-8980-ecb77f1f2d8e - OAuth2Client:Get Token Server returned this correlation_id: 6d194355-e14f-4276-8980-ecb77f1f2d8e\n",
      "INFO:root:Creating container group 'yt9uls1msjqm' with start command '['/bin/bash', '-c', 'echo HELLO WORLD from busybox && apt update && apt install -y lshw && ls /input && lshw && free -h']'\n",
      "INFO:adal-python:d8f76916-196a-4dfb-9022-108839216364 - TokenRequest:Getting token with client credentials.\n",
      "INFO:adal-python:d8f76916-196a-4dfb-9022-108839216364 - OAuth2Client:Get Token Server returned this correlation_id: d8f76916-196a-4dfb-9022-108839216364\n"
     ]
    },
    {
     "name": "stdout",
     "output_type": "stream",
     "text": [
      ".............................."
     ]
    },
    {
     "name": "stderr",
     "output_type": "stream",
     "text": [
      "INFO:adal-python:f1789c35-40f3-4956-9a30-1e67de2b95dc - TokenRequest:Getting token with client credentials.\n"
     ]
    },
    {
     "name": "stdout",
     "output_type": "stream",
     "text": [
      "..............................."
     ]
    },
    {
     "name": "stderr",
     "output_type": "stream",
     "text": [
      "INFO:adal-python:02e2035d-ce63-4c3f-bc93-afcded3a8673 - TokenRequest:Getting token with client credentials.\n"
     ]
    },
    {
     "name": "stdout",
     "output_type": "stream",
     "text": [
      "..............................."
     ]
    },
    {
     "name": "stderr",
     "output_type": "stream",
     "text": [
      "INFO:adal-python:d4cd1c07-7e2d-412c-913e-10ae18928b7d - TokenRequest:Getting token with client credentials.\n"
     ]
    },
    {
     "name": "stdout",
     "output_type": "stream",
     "text": [
      ".............................."
     ]
    },
    {
     "name": "stderr",
     "output_type": "stream",
     "text": [
      "INFO:adal-python:293481e0-41e9-41f5-8353-c91732762286 - TokenRequest:Getting token with client credentials.\n"
     ]
    },
    {
     "name": "stdout",
     "output_type": "stream",
     "text": [
      "..............................."
     ]
    },
    {
     "name": "stderr",
     "output_type": "stream",
     "text": [
      "INFO:adal-python:d5d35544-4a87-41b3-900c-ec8fc77f58fa - TokenRequest:Getting token with client credentials.\n"
     ]
    },
    {
     "name": "stdout",
     "output_type": "stream",
     "text": [
      "..............................."
     ]
    },
    {
     "name": "stderr",
     "output_type": "stream",
     "text": [
      "INFO:adal-python:0552e545-fe7b-47b3-a93c-be3bf8c26e3d - TokenRequest:Getting token with client credentials.\n"
     ]
    },
    {
     "name": "stdout",
     "output_type": "stream",
     "text": [
      ".............................."
     ]
    },
    {
     "name": "stderr",
     "output_type": "stream",
     "text": [
      "INFO:adal-python:2c1eb861-ee23-41f4-81ed-e4a58bde468c - TokenRequest:Getting token with client credentials.\n"
     ]
    },
    {
     "name": "stdout",
     "output_type": "stream",
     "text": [
      "..............................."
     ]
    },
    {
     "name": "stderr",
     "output_type": "stream",
     "text": [
      "INFO:adal-python:e6ad4861-edc8-47d5-837f-ba1e1d201360 - TokenRequest:Getting token with client credentials.\n"
     ]
    },
    {
     "name": "stdout",
     "output_type": "stream",
     "text": [
      ".............................."
     ]
    },
    {
     "name": "stderr",
     "output_type": "stream",
     "text": [
      "INFO:adal-python:cde2bd52-3c64-47e3-ba2c-2d93309cf393 - TokenRequest:Getting token with client credentials.\n"
     ]
    },
    {
     "name": "stdout",
     "output_type": "stream",
     "text": [
      "..............................."
     ]
    },
    {
     "name": "stderr",
     "output_type": "stream",
     "text": [
      "INFO:adal-python:84a3f471-aaa2-4a86-bf78-c99c547c78df - TokenRequest:Getting token with client credentials.\n"
     ]
    },
    {
     "name": "stdout",
     "output_type": "stream",
     "text": [
      "..............................."
     ]
    },
    {
     "name": "stderr",
     "output_type": "stream",
     "text": [
      "INFO:adal-python:007f2fcd-b8d2-42af-9308-d91f4aa00e08 - TokenRequest:Getting token with client credentials.\n"
     ]
    },
    {
     "name": "stdout",
     "output_type": "stream",
     "text": [
      ".............................."
     ]
    },
    {
     "name": "stderr",
     "output_type": "stream",
     "text": [
      "INFO:adal-python:39d6a217-294c-4a35-a5b2-6a04eafe1a03 - TokenRequest:Getting token with client credentials.\n"
     ]
    },
    {
     "name": "stdout",
     "output_type": "stream",
     "text": [
      "..............................."
     ]
    },
    {
     "name": "stderr",
     "output_type": "stream",
     "text": [
      "INFO:adal-python:2795f9f0-11b9-43fc-b03f-b22d0351f158 - TokenRequest:Getting token with client credentials.\n"
     ]
    },
    {
     "name": "stdout",
     "output_type": "stream",
     "text": [
      "..............................."
     ]
    },
    {
     "name": "stderr",
     "output_type": "stream",
     "text": [
      "INFO:adal-python:a1e76e06-7f9c-4184-bf22-01d87c3410a6 - TokenRequest:Getting token with client credentials.\n"
     ]
    },
    {
     "name": "stdout",
     "output_type": "stream",
     "text": [
      ".............................."
     ]
    },
    {
     "name": "stderr",
     "output_type": "stream",
     "text": [
      "INFO:adal-python:8c373b00-925a-421b-ade6-4c9797e1218d - TokenRequest:Getting token with client credentials.\n"
     ]
    },
    {
     "name": "stdout",
     "output_type": "stream",
     "text": [
      "..............................."
     ]
    },
    {
     "name": "stderr",
     "output_type": "stream",
     "text": [
      "INFO:adal-python:2147d1ad-f7b4-4531-95e8-2445e705ef21 - TokenRequest:Getting token with client credentials.\n"
     ]
    },
    {
     "name": "stdout",
     "output_type": "stream",
     "text": [
      ".............................."
     ]
    },
    {
     "name": "stderr",
     "output_type": "stream",
     "text": [
      "INFO:adal-python:6eeb68cd-9ab1-4100-8ed4-7e3d6dd6d9f0 - TokenRequest:Getting token with client credentials.\n"
     ]
    },
    {
     "name": "stdout",
     "output_type": "stream",
     "text": [
      "............................................."
     ]
    },
    {
     "name": "stderr",
     "output_type": "stream",
     "text": [
      "INFO:adal-python:6d568614-ac8a-4fe1-8b59-4b4e50137874 - TokenRequest:Getting token with client credentials.\n"
     ]
    },
    {
     "name": "stdout",
     "output_type": "stream",
     "text": [
      "..............................."
     ]
    },
    {
     "name": "stderr",
     "output_type": "stream",
     "text": [
      "INFO:adal-python:7ddf2f36-0f01-4c8b-92e6-0f2cb6c7b96c - TokenRequest:Getting token with client credentials.\n"
     ]
    },
    {
     "name": "stdout",
     "output_type": "stream",
     "text": [
      ".............................."
     ]
    },
    {
     "name": "stderr",
     "output_type": "stream",
     "text": [
      "INFO:adal-python:be40109a-2f76-42e6-b4d9-290d53a48172 - TokenRequest:Getting token with client credentials.\n"
     ]
    },
    {
     "name": "stdout",
     "output_type": "stream",
     "text": [
      "..............................."
     ]
    },
    {
     "name": "stderr",
     "output_type": "stream",
     "text": [
      "INFO:adal-python:429a5b8d-7109-472d-bc54-05250f2decdc - TokenRequest:Getting token with client credentials.\n",
      "INFO:adal-python:998c1848-37dd-4a3d-bcb3-0844574d8c61 - TokenRequest:Getting token with client credentials.\n"
     ]
    },
    {
     "name": "stdout",
     "output_type": "stream",
     "text": [
      "."
     ]
    },
    {
     "name": "stderr",
     "output_type": "stream",
     "text": [
      "INFO:adal-python:23443326-4753-4a06-b2e6-39b8f993d484 - TokenRequest:Getting token with client credentials.\n",
      "INFO:adal-python:6e474b41-9474-4a78-b0be-2dea666e7a28 - TokenRequest:Getting token with client credentials.\n"
     ]
    },
    {
     "name": "stdout",
     "output_type": "stream",
     "text": [
      "\n",
      "Creation of container group 'yt9uls1msjqm' succeeded.\n"
     ]
    },
    {
     "name": "stderr",
     "output_type": "stream",
     "text": [
      "INFO:adal-python:3aec1ec7-27ab-439c-b015-e9f7155bdaab - TokenRequest:Getting token with client credentials.\n"
     ]
    },
    {
     "name": "stdout",
     "output_type": "stream",
     "text": [
      "Logs for container 'yt9uls1msjqm':\n",
      "HELLO WORLD from busybox\n",
      "\n",
      "WARNING: apt does not have a stable CLI interface. Use with caution in scripts.\n",
      "\n",
      "Get:1 http://archive.ubuntu.com/ubuntu xenial InRelease [247 kB]\n",
      "Get:2 http://archive.ubuntu.com/ubuntu xenial-updates InRelease [109 kB]\n",
      "Get:3 http://archive.ubuntu.com/ubuntu xenial-backports InRelease [107 kB]\n",
      "Get:4 http://security.ubuntu.com/ubuntu xenial-security InRelease [109 kB]\n",
      "Get:5 http://archive.ubuntu.com/ubuntu xenial/main amd64 Packages [1558 kB]\n",
      "Get:6 http://archive.ubuntu.com/ubuntu xenial/restricted amd64 Packages [14.1 kB]\n",
      "Get:7 http://archive.ubuntu.com/ubuntu xenial/universe amd64 Packages [9827 kB]\n",
      "Ign:8 https://developer.download.nvidia.com/compute/cuda/repos/ubuntu1604/x86_64  InRelease\n",
      "Ign:9 https://developer.download.nvidia.com/compute/machine-learning/repos/ubuntu1604/x86_64  InRelease\n",
      "Get:10 https://developer.download.nvidia.com/compute/cuda/repos/ubuntu1604/x86_64  Release [564 B]\n",
      "Get:11 https://developer.download.nvidia.com/compute/machine-learning/repos/ubuntu1604/x86_64  Release [564 B]\n",
      "Get:12 https://developer.download.nvidia.com/compute/cuda/repos/ubuntu1604/x86_64  Release.gpg [801 B]\n",
      "Get:13 https://developer.download.nvidia.com/compute/machine-learning/repos/ubuntu1604/x86_64  Release.gpg [801 B]\n",
      "Get:14 http://archive.ubuntu.com/ubuntu xenial/multiverse amd64 Packages [176 kB]\n",
      "Get:15 http://archive.ubuntu.com/ubuntu xenial-updates/main amd64 Packages [1261 kB]\n",
      "Get:16 http://archive.ubuntu.com/ubuntu xenial-updates/restricted amd64 Packages [13.1 kB]\n",
      "Get:17 http://archive.ubuntu.com/ubuntu xenial-updates/universe amd64 Packages [971 kB]\n",
      "Get:18 http://archive.ubuntu.com/ubuntu xenial-updates/multiverse amd64 Packages [19.1 kB]\n",
      "Get:19 http://archive.ubuntu.com/ubuntu xenial-backports/main amd64 Packages [7942 B]\n",
      "Get:20 http://archive.ubuntu.com/ubuntu xenial-backports/universe amd64 Packages [8532 B]\n",
      "Get:21 http://security.ubuntu.com/ubuntu xenial-security/main amd64 Packages [868 kB]\n",
      "Get:22 https://developer.download.nvidia.com/compute/cuda/repos/ubuntu1604/x86_64  Packages [209 kB]\n",
      "Get:23 https://developer.download.nvidia.com/compute/machine-learning/repos/ubuntu1604/x86_64  Packages [46.3 kB]\n",
      "Get:24 http://security.ubuntu.com/ubuntu xenial-security/restricted amd64 Packages [12.7 kB]\n",
      "Get:25 http://security.ubuntu.com/ubuntu xenial-security/universe amd64 Packages [560 kB]\n",
      "Get:26 http://security.ubuntu.com/ubuntu xenial-security/multiverse amd64 Packages [6121 B]\n",
      "Fetched 16.1 MB in 1s (9176 kB/s)\n",
      "Reading package lists...\n",
      "Building dependency tree...\n",
      "Reading state information...\n",
      "17 packages can be upgraded. Run 'apt list --upgradable' to see them.\n",
      "\n",
      "WARNING: apt does not have a stable CLI interface. Use with caution in scripts.\n",
      "\n",
      "Reading package lists...\n",
      "Building dependency tree...\n",
      "Reading state information...\n",
      "The following additional packages will be installed:\n",
      "  libpci3 libusb-1.0-0 pciutils usbutils\n",
      "Suggested packages:\n",
      "  bzip2 wget | curl | lynx-cur wget | lynx-cur\n",
      "The following NEW packages will be installed:\n",
      "  libpci3 libusb-1.0-0 lshw pciutils usbutils\n",
      "0 upgraded, 5 newly installed, 0 to remove and 17 not upgraded.\n",
      "Need to get 742 kB of archives.\n",
      "After this operation, 2919 kB of additional disk space will be used.\n",
      "Get:1 http://archive.ubuntu.com/ubuntu xenial-updates/main amd64 libpci3 amd64 1:3.3.1-1.1ubuntu1.3 [24.3 kB]\n",
      "Get:2 http://archive.ubuntu.com/ubuntu xenial/main amd64 libusb-1.0-0 amd64 2:1.0.20-1 [42.9 kB]\n",
      "Get:3 http://archive.ubuntu.com/ubuntu xenial-updates/main amd64 lshw amd64 02.17-1.1ubuntu3.6 [215 kB]\n",
      "Get:4 http://archive.ubuntu.com/ubuntu xenial-updates/main amd64 pciutils amd64 1:3.3.1-1.1ubuntu1.3 [254 kB]\n",
      "Get:5 http://archive.ubuntu.com/ubuntu xenial/main amd64 usbutils amd64 1:007-4 [206 kB]\n",
      "debconf: delaying package configuration, since apt-utils is not installed\n",
      "Fetched 742 kB in 0s (1013 kB/s)\n",
      "Selecting previously unselected package libpci3:amd64.\r\n",
      "(Reading database ... \r",
      "(Reading database ... 5%\r",
      "(Reading database ... 10%\r",
      "(Reading database ... 15%\r",
      "(Reading database ... 20%\r",
      "(Reading database ... 25%\r",
      "(Reading database ... 30%\r",
      "(Reading database ... 35%\r",
      "(Reading database ... 40%\r",
      "(Reading database ... 45%\r",
      "(Reading database ... 50%\r",
      "(Reading database ... 55%\r",
      "(Reading database ... 60%\r",
      "(Reading database ... 65%\r",
      "(Reading database ... 70%\r",
      "(Reading database ... 75%\r",
      "(Reading database ... 80%\r",
      "(Reading database ... 85%\r",
      "(Reading database ... 90%\r",
      "(Reading database ... 95%\r",
      "(Reading database ... 100%\r",
      "(Reading database ... 5290 files and directories currently installed.)\r\n",
      "Preparing to unpack .../libpci3_1%3a3.3.1-1.1ubuntu1.3_amd64.deb ...\r\n",
      "Unpacking libpci3:amd64 (1:3.3.1-1.1ubuntu1.3) ...\r\n",
      "Selecting previously unselected package libusb-1.0-0:amd64.\r\n",
      "Preparing to unpack .../libusb-1.0-0_2%3a1.0.20-1_amd64.deb ...\r\n",
      "Unpacking libusb-1.0-0:amd64 (2:1.0.20-1) ...\r\n",
      "Selecting previously unselected package lshw.\r\n",
      "Preparing to unpack .../lshw_02.17-1.1ubuntu3.6_amd64.deb ...\r\n",
      "Unpacking lshw (02.17-1.1ubuntu3.6) ...\r\n",
      "Selecting previously unselected package pciutils.\r\n",
      "Preparing to unpack .../pciutils_1%3a3.3.1-1.1ubuntu1.3_amd64.deb ...\r\n",
      "Unpacking pciutils (1:3.3.1-1.1ubuntu1.3) ...\r\n",
      "Selecting previously unselected package usbutils.\r\n",
      "Preparing to unpack .../usbutils_1%3a007-4_amd64.deb ...\r\n",
      "Unpacking usbutils (1:007-4) ...\r\n",
      "Processing triggers for libc-bin (2.23-0ubuntu11) ...\r\n",
      "Setting up libpci3:amd64 (1:3.3.1-1.1ubuntu1.3) ...\r\n",
      "Setting up libusb-1.0-0:amd64 (2:1.0.20-1) ...\r\n",
      "Setting up lshw (02.17-1.1ubuntu3.6) ...\r\n",
      "Setting up pciutils (1:3.3.1-1.1ubuntu1.3) ...\r\n",
      "Setting up usbutils (1:007-4) ...\r\n",
      "Processing triggers for libc-bin (2.23-0ubuntu11) ...\r\n",
      "2019-05-06-17.54-a955c8e282\n",
      "2019-05-06-18.06-b27892f8ae\n",
      "2019-05-06-18.52-68b1f1fdbc\n",
      "2019-05-07-16.58-f18ddfec6a\n",
      "exp1\n",
      "test_file\n",
      "wk-caas-75a5f4a6192e4a438e146075485895b7-bcc566ed44b65235016b15\n",
      "    description: Computer\n",
      "    width: 64 bits\n",
      "    capabilities: vsyscall32\n",
      "  *-core\n",
      "       description: Motherboard\n",
      "       physical id: 0\n",
      "     *-memory\n",
      "          description: System memory\n",
      "          physical id: 1\n",
      "          size: 55GiB\n",
      "     *-cpu\n",
      "          product: Intel(R) Xeon(R) CPU E5-2690 v3 @ 2.60GHz\n",
      "          vendor: Intel Corp.\n",
      "          physical id: 2\n",
      "          bus info: cpu@0\n",
      "          width: 64 bits\n",
      "          capabilities: fpu fpu_exception wp vme de pse tsc msr pae mce cx8 apic sep mtrr pge mca cmov pat pse36 clflush mmx fxsr sse sse2 ss ht syscall nx pdpe1gb rdtscp x86-64 constant_tsc rep_good nopl xtopology cpuid pni pclmulqdq ssse3 fma cx16 pcid sse4_1 sse4_2 movbe popcnt aes xsave avx f16c rdrand hypervisor lahf_lm abm invpcid_single pti fsgsbase bmi1 avx2 smep bmi2 erms invpcid xsaveopt md_clear\n",
      "     *-pci\n",
      "          description: Host bridge\n",
      "          product: 440BX/ZX/DX - 82443BX/ZX/DX Host bridge (AGP disabled)\n",
      "          vendor: Intel Corporation\n",
      "          physical id: 100\n",
      "          bus info: pci@0000:00:00.0\n",
      "          version: 03\n",
      "          width: 32 bits\n",
      "          clock: 33MHz\n",
      "        *-isa\n",
      "             description: ISA bridge\n",
      "             product: 82371AB/EB/MB PIIX4 ISA\n",
      "             vendor: Intel Corporation\n",
      "             physical id: 7\n",
      "             bus info: pci@0000:00:07.0\n",
      "             version: 01\n",
      "             width: 32 bits\n",
      "             clock: 33MHz\n",
      "             capabilities: isa bus_master\n",
      "             configuration: latency=0\n",
      "        *-ide\n",
      "             description: IDE interface\n",
      "             product: 82371AB/EB/MB PIIX4 IDE\n",
      "             vendor: Intel Corporation\n",
      "             physical id: 7.1\n",
      "             bus info: pci@0000:00:07.1\n",
      "             version: 01\n",
      "             width: 32 bits\n",
      "             clock: 33MHz\n",
      "             capabilities: ide isa_compatibility_mode-only_controller__supports_bus_mastering bus_master\n",
      "             configuration: driver=ata_piix latency=0\n",
      "             resources: irq:0 ioport:1f0(size=8) ioport:3f6 ioport:170(size=8) ioport:376 ioport:ffa0(size=16)\n",
      "        *-bridge UNCLAIMED\n",
      "             description: Bridge\n",
      "             product: 82371AB/EB/MB PIIX4 ACPI\n",
      "             vendor: Intel Corporation\n",
      "             physical id: 7.3\n",
      "             bus info: pci@0000:00:07.3\n",
      "             version: 02\n",
      "             width: 32 bits\n",
      "             clock: 33MHz\n",
      "             capabilities: bridge\n",
      "             configuration: latency=0\n",
      "        *-display\n",
      "             description: VGA compatible controller\n",
      "             product: Hyper-V virtual VGA\n",
      "             vendor: Microsoft Corporation\n",
      "             physical id: 8\n",
      "             bus info: pci@0000:00:08.0\n",
      "             version: 00\n",
      "             width: 32 bits\n",
      "             clock: 33MHz\n",
      "             capabilities: vga_controller bus_master rom\n",
      "             configuration: driver=hyperv_fb latency=0\n",
      "             resources: irq:11 memory:f8000000-fbffffff memory:c0000-dffff\n",
      "     *-display\n",
      "          description: 3D controller\n",
      "          product: GK210GL [Tesla K80]\n",
      "          vendor: NVIDIA Corporation\n",
      "          physical id: 0\n",
      "          bus info: pci@d167:00:00.0\n",
      "          version: a1\n",
      "          width: 64 bits\n",
      "          clock: 33MHz\n",
      "          capabilities: bus_master cap_list\n",
      "          configuration: driver=nvidia latency=0\n",
      "          resources: iomemory:100-ff iomemory:140-13f irq:24 memory:41000000-41ffffff memory:1000000000-13ffffffff memory:1400000000-1401ffffff\n",
      "  *-network\n",
      "       description: Ethernet interface\n",
      "       physical id: 1\n",
      "       logical name: eth0\n",
      "       serial: 0a:58:0a:f4:e6:04\n",
      "       size: 10Gbit/s\n",
      "       capabilities: ethernet physical\n",
      "       configuration: autonegotiation=off broadcast=yes driver=veth driverversion=1.0 duplex=full ip=10.244.230.4 link=yes multicast=yes port=twisted pair speed=10Gbit/s\n",
      "              total        used        free      shared  buff/cache   available\n",
      "Mem:            55G        575M         51G        8.9M        2.5G         53G\n",
      "Swap:            0B          0B          0B\n",
      "\n"
     ]
    }
   ],
   "source": [
    "import logging\n",
    "\n",
    "logging.basicConfig(level=logging.INFO)\n",
    "\n",
    "resource_group_name = \"ACI\"   \n",
    "aci_worker = ACIWorker(resource_group_name)\n",
    "\n",
    "container_image_name=\"nvidia/cuda:9.0-base-ubuntu16.04\"\n",
    "command = [\"/bin/bash\", \"-c\", \"echo HELLO WORLD from busybox && apt update && apt install -y lshw && ls /input && lshw && free -h\"]\n",
    "volume_mount_path = \"/input\"\n",
    "afs_creds = get_afs_creds()\n",
    "afs_name = afs_creds[\"AFS_NAME\"]\n",
    "afs_key = afs_creds[\"AFS_KEY\"]\n",
    "afs_share = afs_creds[\"AFS_SHARE\"]\n",
    "\n",
    "container_group_name, logs = aci_worker.run_task_based_container(container_image_name=container_image_name,\n",
    "                      command=command,\n",
    "                      cpu=1.0,\n",
    "                      memory_in_gb=2,\n",
    "                      gpu_count=1,\n",
    "                      volume_mount_path=volume_mount_path,\n",
    "                      afs_name=afs_name,\n",
    "                      afs_key=afs_key,\n",
    "                      afs_share=afs_share,\n",
    "                      afs_mount_subpath='')\n",
    "\n",
    "print(\"Logs for container '{0}':\".format(container_group_name))\n",
    "print(\"{0}\".format(logs.content))"
   ]
  },
  {
   "cell_type": "code",
   "execution_count": null,
   "metadata": {},
   "outputs": [],
   "source": []
  }
 ],
 "metadata": {
  "kernelspec": {
   "display_name": "Python 3",
   "language": "python",
   "name": "python3"
  },
  "language_info": {
   "codemirror_mode": {
    "name": "ipython",
    "version": 3
   },
   "file_extension": ".py",
   "mimetype": "text/x-python",
   "name": "python",
   "nbconvert_exporter": "python",
   "pygments_lexer": "ipython3",
   "version": "3.6.4"
  }
 },
 "nbformat": 4,
 "nbformat_minor": 2
}
