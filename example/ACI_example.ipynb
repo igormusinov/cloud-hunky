{
 "cells": [
  {
   "cell_type": "code",
   "execution_count": 1,
   "metadata": {},
   "outputs": [
    {
     "name": "stdout",
     "output_type": "stream",
     "text": [
      "1.1.20\n",
      "1.4.1\n",
      "2.1.0\n"
     ]
    }
   ],
   "source": [
    "import azure.common\n",
    "import azure.mgmt.containerinstance\n",
    "import azure.mgmt.resource\n",
    "\n",
    "print(azure.common.__version__)\n",
    "print(azure.mgmt.containerinstance.__version__)\n",
    "print(azure.mgmt.resource.__version__)\n",
    "# azure-common>=1.1.18\n",
    "# azure-mgmt-containerinstance>=1.4.1\n",
    "# azure-mgmt-resource>=2.1.0\n",
    "\n",
    "from cloudhunky.aci_worker import ACIWorker\n",
    "from cloudhunky.util import get_afs_creds"
   ]
  },
  {
   "cell_type": "code",
   "execution_count": 2,
   "metadata": {},
   "outputs": [
    {
     "name": "stderr",
     "output_type": "stream",
     "text": [
      "INFO:root:Authenticating with Azure using credentials in file at /home/igor/.azure/azure_creds\n",
      "INFO:adal-python:6b8fe581-f358-48d8-8c09-9152807f532b - TokenRequest:Getting token with client credentials.\n",
      "INFO:adal-python:6b8fe581-f358-48d8-8c09-9152807f532b - OAuth2Client:Get Token Server returned this correlation_id: 6b8fe581-f358-48d8-8c09-9152807f532b\n",
      "INFO:root:Creating container group 'da9p5wma4lo2' with start command '['/bin/sh', '-c', 'echo HELLO WORLD from busybox && ls /input']'\n",
      "INFO:adal-python:481bfdda-8173-440e-bc0c-c409e33901cc - TokenRequest:Getting token with client credentials.\n",
      "INFO:adal-python:481bfdda-8173-440e-bc0c-c409e33901cc - OAuth2Client:Get Token Server returned this correlation_id: 481bfdda-8173-440e-bc0c-c409e33901cc\n"
     ]
    },
    {
     "name": "stdout",
     "output_type": "stream",
     "text": [
      ".............................."
     ]
    },
    {
     "name": "stderr",
     "output_type": "stream",
     "text": [
      "INFO:adal-python:ff1ef422-20db-41b1-a8d6-36ead002cba9 - TokenRequest:Getting token with client credentials.\n"
     ]
    },
    {
     "name": "stdout",
     "output_type": "stream",
     "text": [
      "."
     ]
    },
    {
     "name": "stderr",
     "output_type": "stream",
     "text": [
      "INFO:adal-python:ae1c91ed-aa61-4d96-8d5d-383d25f8c5ce - TokenRequest:Getting token with client credentials.\n"
     ]
    },
    {
     "name": "stdout",
     "output_type": "stream",
     "text": [
      "."
     ]
    },
    {
     "name": "stderr",
     "output_type": "stream",
     "text": [
      "INFO:adal-python:6bad3821-13f0-4bdf-9ad7-3d308f647675 - TokenRequest:Getting token with client credentials.\n",
      "INFO:adal-python:744e2473-7b07-4d8c-b40b-0c41fb5224ce - TokenRequest:Getting token with client credentials.\n"
     ]
    },
    {
     "name": "stdout",
     "output_type": "stream",
     "text": [
      "\n",
      "Creation of container group 'da9p5wma4lo2' succeeded.\n"
     ]
    },
    {
     "name": "stderr",
     "output_type": "stream",
     "text": [
      "INFO:adal-python:c51fc3f5-20c6-4e56-993e-7ae80e48549d - TokenRequest:Getting token with client credentials.\n"
     ]
    },
    {
     "name": "stdout",
     "output_type": "stream",
     "text": [
      "Logs for container 'da9p5wma4lo2':\n",
      "HELLO WORLD from busybox\n",
      "2019-05-06-17.54-a955c8e282\n",
      "2019-05-06-18.06-b27892f8ae\n",
      "2019-05-06-18.52-68b1f1fdbc\n",
      "2019-05-07-16.58-f18ddfec6a\n",
      "exp1\n",
      "test_file\n",
      "\n"
     ]
    }
   ],
   "source": [
    "import logging\n",
    "\n",
    "logging.basicConfig(level=logging.INFO)\n",
    "\n",
    "resource_group_name = \"ACI\"   \n",
    "aci_worker = ACIWorker(resource_group_name)\n",
    "\n",
    "container_image_name=\"busybox:latest\"\n",
    "command = [\"/bin/sh\", \"-c\", \"echo HELLO WORLD from busybox && ls /input\"]\n",
    "volume_mount_path = \"/input\"\n",
    "afs_creds = get_afs_creds()\n",
    "afs_name = afs_creds[\"AFS_NAME\"]\n",
    "afs_key = afs_creds[\"AFS_KEY\"]\n",
    "afs_share = afs_creds[\"AFS_SHARE\"]\n",
    "\n",
    "container_group_name, logs = aci_worker.run_task_based_container(container_image_name=container_image_name,\n",
    "                      command=command,\n",
    "                      volume_mount_path=volume_mount_path,\n",
    "                      afs_name=afs_name,\n",
    "                      afs_key=afs_key,\n",
    "                      afs_share=afs_share,\n",
    "                      afs_mount_subpath='')\n",
    "\n",
    "print(\"Logs for container '{0}':\".format(container_group_name))\n",
    "print(\"{0}\".format(logs.content))"
   ]
  },
  {
   "cell_type": "code",
   "execution_count": null,
   "metadata": {},
   "outputs": [],
   "source": []
  }
 ],
 "metadata": {
  "kernelspec": {
   "display_name": "Python 3",
   "language": "python",
   "name": "python3"
  },
  "language_info": {
   "codemirror_mode": {
    "name": "ipython",
    "version": 3
   },
   "file_extension": ".py",
   "mimetype": "text/x-python",
   "name": "python",
   "nbconvert_exporter": "python",
   "pygments_lexer": "ipython3",
   "version": "3.6.4"
  }
 },
 "nbformat": 4,
 "nbformat_minor": 2
}
