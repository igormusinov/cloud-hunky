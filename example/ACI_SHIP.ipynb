{
 "cells": [
  {
   "cell_type": "code",
   "execution_count": 1,
   "metadata": {},
   "outputs": [
    {
     "name": "stdout",
     "output_type": "stream",
     "text": [
      "1.1.20\n",
      "1.4.1\n",
      "2.1.0\n"
     ]
    }
   ],
   "source": [
    "import azure.common\n",
    "import azure.mgmt.containerinstance\n",
    "import azure.mgmt.resource\n",
    "\n",
    "print(azure.common.__version__)\n",
    "print(azure.mgmt.containerinstance.__version__)\n",
    "print(azure.mgmt.resource.__version__)\n",
    "# azure-common>=1.1.18\n",
    "# azure-mgmt-containerinstance>=1.4.1\n",
    "# azure-mgmt-resource>=2.1.0\n",
    "\n",
    "from cloudhunky.aci_worker import ACIWorker\n",
    "from cloudhunky.util import get_afs_creds"
   ]
  },
  {
   "cell_type": "code",
   "execution_count": null,
   "metadata": {},
   "outputs": [],
   "source": [
    "import logging\n",
    "from pathlib import Path\n",
    "\n",
    "# logging.basicConfig(level=logging.INFO)\n",
    "\n",
    "resource_group_name = \"SHIP\"   \n",
    "aci_worker = ACIWorker(resource_group_name)\n",
    "\n",
    "# container_image_name=\"nvidia/cuda:9.0-base-ubuntu16.04\"\n",
    "container_image_name=\"mrphys/mfsimage:ff2\"\n",
    "command = [\"/bin/bash\", \"-c\", \"sleep 28800\"]\n",
    "envs = {\"fileName\": \"pythia8_Geant4_10.0_withCharmandBeauty0_mu.root\",\n",
    "        \"mfirstEvent\": 0, \n",
    "        \"nEvents\": 100,\n",
    "        \"muShieldDesign\":11, \n",
    "        \"jName\": \"testJob\",\n",
    "        \"jNumber\":1}\n",
    "volume_mount_path = \"/sample\"\n",
    "afs_creds = get_afs_creds(Path(\"/home/igor/LAMBDA/Azure/ekurbatov/afs_creds.yml\"))\n",
    "afs_name = afs_creds[\"AFS_NAME\"]\n",
    "afs_key = afs_creds[\"AFS_KEY\"]\n",
    "afs_share = afs_creds[\"AFS_SHARE\"]\n",
    "\n",
    "container_group_name, logs = aci_worker.run_task_based_container(container_image_name=container_image_name,\n",
    "                      command=command,\n",
    "                      cpu=4.0,\n",
    "                      memory_in_gb=10,\n",
    "                      gpu_count=0,\n",
    "                      volume_mount_path=volume_mount_path,\n",
    "                      envs=envs,\n",
    "                      timeout=28800,                                          \n",
    "                      afs_name=afs_name,\n",
    "                      afs_key=afs_key,\n",
    "                      afs_share=afs_share,\n",
    "                      afs_mount_subpath='')\n",
    "\n",
    "print(\"Logs for container '{0}':\".format(container_group_name))\n",
    "print(\"{0}\".format(logs.content))"
   ]
  },
  {
   "cell_type": "code",
   "execution_count": 5,
   "metadata": {},
   "outputs": [],
   "source": [
    "# Launch batch of jobs"
   ]
  },
  {
   "cell_type": "code",
   "execution_count": null,
   "metadata": {},
   "outputs": [],
   "source": [
    "import os\n",
    "from multiprocessing import Process\n",
    "import time\n",
    "import logging\n"
   ]
  },
  {
   "cell_type": "code",
   "execution_count": null,
   "metadata": {},
   "outputs": [],
   "source": [
    "def run_job(envs):\n",
    "    resource_group_name = \"SHIP\"   \n",
    "    aci_worker = ACIWorker(resource_group_name)\n",
    "    container_image_name=\"mrphys/mfsimage:ff2\"\n",
    "    volume_mount_path = \"/sample\"\n",
    "    afs_creds = get_afs_creds(Path(\"/home/igor/LAMBDA/Azure/ekurbatov/afs_creds.yml\"))\n",
    "    afs_name = afs_creds[\"AFS_NAME\"]\n",
    "    afs_key = afs_creds[\"AFS_KEY\"]\n",
    "    afs_share = afs_creds[\"AFS_SHARE\"]\n",
    "\n",
    "    container_group_name, logs = aci_worker.run_task_based_container(container_image_name=container_image_name,\n",
    "                          command=command,\n",
    "                          cpu=2.0,\n",
    "                          memory_in_gb=16,\n",
    "                          gpu_count=0,\n",
    "                          volume_mount_path=volume_mount_path,\n",
    "                          envs=envs,\n",
    "                          timeout=28800,\n",
    "                          afs_name=afs_name,\n",
    "                          afs_key=afs_key,\n",
    "                          afs_share=afs_share,\n",
    "                          afs_mount_subpath='')"
   ]
  },
  {
   "cell_type": "code",
   "execution_count": null,
   "metadata": {},
   "outputs": [],
   "source": [
    "procs = []\n",
    "for i in range(2):\n",
    "    envs = {\"fileName\": \"pythia8_Geant4_10.0_withCharmandBeauty0_mu.root\",\n",
    "            \"mfirstEvent\": 0, \n",
    "            \"nEvents\": 100,\n",
    "            \"muShieldDesign\":11, \n",
    "            \"jName\": \"testJob\",\n",
    "            \"jNumber\": i}\n",
    "    proc = Process(target=run_job, args=(envs,))\n",
    "    procs.append(proc)\n",
    "    proc.start()\n",
    "for proc in procs:\n",
    "    proc .join()"
   ]
  }
 ],
 "metadata": {
  "kernelspec": {
   "display_name": "Python 3",
   "language": "python",
   "name": "python3"
  },
  "language_info": {
   "codemirror_mode": {
    "name": "ipython",
    "version": 3
   },
   "file_extension": ".py",
   "mimetype": "text/x-python",
   "name": "python",
   "nbconvert_exporter": "python",
   "pygments_lexer": "ipython3",
   "version": "3.6.4"
  }
 },
 "nbformat": 4,
 "nbformat_minor": 2
}
