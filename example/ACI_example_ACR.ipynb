{
 "cells": [
  {
   "cell_type": "code",
   "execution_count": 1,
   "metadata": {},
   "outputs": [
    {
     "name": "stdout",
     "output_type": "stream",
     "text": [
      "1.1.23\n",
      "1.5.0\n",
      "3.0.0\n"
     ]
    }
   ],
   "source": [
    "import azure.common\n",
    "import azure.mgmt.containerinstance\n",
    "import azure.mgmt.resource\n",
    "from azure.mgmt.containerinstance.models import ImageRegistryCredential\n",
    "\n",
    "print(azure.common.__version__)\n",
    "print(azure.mgmt.containerinstance.__version__)\n",
    "print(azure.mgmt.resource.__version__)\n",
    "# azure-common>=1.1.18\n",
    "# azure-mgmt-containerinstance>=1.4.1\n",
    "# azure-mgmt-resource>=2.1.0\n",
    "\n",
    "from cloudhunky.aci_worker import ACIWorker\n",
    "from cloudhunky.util import get_afs_creds"
   ]
  },
  {
   "cell_type": "code",
   "execution_count": null,
   "metadata": {
    "scrolled": false
   },
   "outputs": [
    {
     "name": "stderr",
     "output_type": "stream",
     "text": [
      "INFO:root:Authenticating with Azure using credentials in file at /home/dev/.azure/azure_creds\n",
      "INFO:adal-python:13c5900e-d426-497e-b823-4983927f555c - TokenRequest:Getting token with client credentials.\n",
      "INFO:adal-python:13c5900e-d426-497e-b823-4983927f555c - OAuth2Client:Get Token Server returned this correlation_id: 13c5900e-d426-497e-b823-4983927f555c\n",
      "INFO:root:Creating container group 'oons79qi67ui' with start command '['/bin/bash', '-c', 'echo HELLO WORLD from busybox && apt update && apt install -y lshw && ls /input && lshw && free -h']'\n",
      "INFO:adal-python:c66e607f-5083-45f8-b337-46671d499348 - TokenRequest:Getting token with client credentials.\n",
      "INFO:adal-python:c66e607f-5083-45f8-b337-46671d499348 - OAuth2Client:Get Token Server returned this correlation_id: c66e607f-5083-45f8-b337-46671d499348\n",
      "INFO:root:Container Started\n"
     ]
    },
    {
     "name": "stdout",
     "output_type": "stream",
     "text": [
      ".............................."
     ]
    },
    {
     "name": "stderr",
     "output_type": "stream",
     "text": [
      "INFO:adal-python:be96298e-9c4b-4341-93f3-c33b6059bb21 - TokenRequest:Getting token with client credentials.\n"
     ]
    },
    {
     "name": "stdout",
     "output_type": "stream",
     "text": [
      "..............................."
     ]
    },
    {
     "name": "stderr",
     "output_type": "stream",
     "text": [
      "INFO:adal-python:c0014e24-61b6-4741-9cb9-65a717070aba - TokenRequest:Getting token with client credentials.\n"
     ]
    },
    {
     "name": "stdout",
     "output_type": "stream",
     "text": [
      ".............................."
     ]
    },
    {
     "name": "stderr",
     "output_type": "stream",
     "text": [
      "INFO:adal-python:94ce126a-4fc8-420f-945f-64f2bffead6f - TokenRequest:Getting token with client credentials.\n"
     ]
    },
    {
     "name": "stdout",
     "output_type": "stream",
     "text": [
      "..............................."
     ]
    },
    {
     "name": "stderr",
     "output_type": "stream",
     "text": [
      "INFO:adal-python:350e92f6-fb6b-4407-9645-3d29370d0f27 - TokenRequest:Getting token with client credentials.\n"
     ]
    },
    {
     "name": "stdout",
     "output_type": "stream",
     "text": [
      "..............................."
     ]
    },
    {
     "name": "stderr",
     "output_type": "stream",
     "text": [
      "INFO:adal-python:968c699d-e93b-462d-bdd9-35ccf9e509de - TokenRequest:Getting token with client credentials.\n"
     ]
    },
    {
     "name": "stdout",
     "output_type": "stream",
     "text": [
      ".............................."
     ]
    },
    {
     "name": "stderr",
     "output_type": "stream",
     "text": [
      "INFO:adal-python:9e2ceaa7-8d84-4825-947d-06f8618b9594 - TokenRequest:Getting token with client credentials.\n"
     ]
    },
    {
     "name": "stdout",
     "output_type": "stream",
     "text": [
      "..............................."
     ]
    },
    {
     "name": "stderr",
     "output_type": "stream",
     "text": [
      "INFO:adal-python:b9bde57c-1e05-4f9a-a998-c8c97c224476 - TokenRequest:Getting token with client credentials.\n"
     ]
    },
    {
     "name": "stdout",
     "output_type": "stream",
     "text": [
      "..............................."
     ]
    },
    {
     "name": "stderr",
     "output_type": "stream",
     "text": [
      "INFO:adal-python:de213c8e-8486-4970-acb5-f0186843afbd - TokenRequest:Getting token with client credentials.\n"
     ]
    },
    {
     "name": "stdout",
     "output_type": "stream",
     "text": [
      ".............................."
     ]
    },
    {
     "name": "stderr",
     "output_type": "stream",
     "text": [
      "INFO:adal-python:5597d93c-53aa-4c21-ae8e-536d46ea1a0e - TokenRequest:Getting token with client credentials.\n"
     ]
    },
    {
     "name": "stdout",
     "output_type": "stream",
     "text": [
      "..............................."
     ]
    },
    {
     "name": "stderr",
     "output_type": "stream",
     "text": [
      "INFO:adal-python:325072a8-6488-4c9e-9868-378fb1b32112 - TokenRequest:Getting token with client credentials.\n"
     ]
    },
    {
     "name": "stdout",
     "output_type": "stream",
     "text": [
      ".............................."
     ]
    },
    {
     "name": "stderr",
     "output_type": "stream",
     "text": [
      "INFO:adal-python:d899c735-020a-4b03-a03f-6f80270edd72 - TokenRequest:Getting token with client credentials.\n"
     ]
    },
    {
     "name": "stdout",
     "output_type": "stream",
     "text": [
      "..............................."
     ]
    },
    {
     "name": "stderr",
     "output_type": "stream",
     "text": [
      "INFO:adal-python:f43738d3-c977-474d-abf2-b2c595edcb28 - TokenRequest:Getting token with client credentials.\n"
     ]
    },
    {
     "name": "stdout",
     "output_type": "stream",
     "text": [
      "..............................."
     ]
    },
    {
     "name": "stderr",
     "output_type": "stream",
     "text": [
      "INFO:adal-python:37bd2a3d-986b-4738-8f7d-43e7a5634c10 - TokenRequest:Getting token with client credentials.\n"
     ]
    },
    {
     "name": "stdout",
     "output_type": "stream",
     "text": [
      ".............................."
     ]
    },
    {
     "name": "stderr",
     "output_type": "stream",
     "text": [
      "INFO:adal-python:c06fc1b4-e713-469a-91e2-fdc2e73cc0a8 - TokenRequest:Getting token with client credentials.\n"
     ]
    },
    {
     "name": "stdout",
     "output_type": "stream",
     "text": [
      "..............................."
     ]
    },
    {
     "name": "stderr",
     "output_type": "stream",
     "text": [
      "INFO:adal-python:9a5e5bcd-15f1-4f40-bfb7-1888edf578d9 - TokenRequest:Getting token with client credentials.\n"
     ]
    },
    {
     "name": "stdout",
     "output_type": "stream",
     "text": [
      "..............................."
     ]
    },
    {
     "name": "stderr",
     "output_type": "stream",
     "text": [
      "INFO:adal-python:3968723a-1224-4bef-befc-d58a9c830dce - TokenRequest:Getting token with client credentials.\n"
     ]
    },
    {
     "name": "stdout",
     "output_type": "stream",
     "text": [
      ".............................."
     ]
    },
    {
     "name": "stderr",
     "output_type": "stream",
     "text": [
      "INFO:adal-python:fa39cc67-df7c-4c0a-ba8d-170cbad7a16c - TokenRequest:Getting token with client credentials.\n"
     ]
    },
    {
     "name": "stdout",
     "output_type": "stream",
     "text": [
      "..............................."
     ]
    },
    {
     "name": "stderr",
     "output_type": "stream",
     "text": [
      "INFO:adal-python:eff73a69-8fa2-4365-b406-5b55638ea186 - TokenRequest:Getting token with client credentials.\n"
     ]
    },
    {
     "name": "stdout",
     "output_type": "stream",
     "text": [
      "........................."
     ]
    }
   ],
   "source": [
    "import logging\n",
    "\n",
    "logging.basicConfig(level=logging.INFO)\n",
    "\n",
    "resource_group_name = \"ACI\"   \n",
    "aci_worker = ACIWorker(resource_group_name)\n",
    "\n",
    "container_image_name=\"nvidia/cuda:9.0-base-ubuntu16.04\"\n",
    "command = [\"/bin/bash\", \"-c\", \"echo HELLO WORLD from busybox && apt update && apt install -y lshw && ls /input && lshw && free -h\"]\n",
    "volume_mount_path = \"/input\"\n",
    "afs_creds = get_afs_creds()\n",
    "afs_name = afs_creds[\"AFS_NAME\"]\n",
    "afs_key = afs_creds[\"AFS_KEY\"]\n",
    "afs_share = afs_creds[\"AFS_SHARE\"]\n",
    "\n",
    "image_registry_server = \"lambdaregistry.azurecr.io\"\n",
    "image_registry_username = \"lambdaregistry\"\n",
    "image_registry_pwd = <password>\n",
    "\n",
    "container_group_name, logs = aci_worker.run_task_based_container(\n",
    "    container_image_name=container_image_name,\n",
    "    command=command,\n",
    "    cpu=1.0,\n",
    "    memory_in_gb=2,\n",
    "    gpu_count=1,\n",
    "    volume_mount_path=volume_mount_path,\n",
    "    afs_name=afs_name,\n",
    "    afs_key=afs_key,\n",
    "    afs_share=afs_share,\n",
    "    afs_mount_subpath='',\n",
    "    image_registry_server=image_registry_server,\n",
    "    image_registry_username=image_registry_username,\n",
    "    image_registry_pwd=image_registry_pwd,\n",
    "    \n",
    ")\n",
    "\n",
    "print(\"Logs for container '{0}':\".format(container_group_name))\n",
    "print(\"{0}\".format(logs.content))"
   ]
  },
  {
   "cell_type": "code",
   "execution_count": null,
   "metadata": {},
   "outputs": [],
   "source": []
  },
  {
   "cell_type": "code",
   "execution_count": null,
   "metadata": {},
   "outputs": [],
   "source": []
  }
 ],
 "metadata": {
  "kernelspec": {
   "display_name": "Python 3",
   "language": "python",
   "name": "python3"
  },
  "language_info": {
   "codemirror_mode": {
    "name": "ipython",
    "version": 3
   },
   "file_extension": ".py",
   "mimetype": "text/x-python",
   "name": "python",
   "nbconvert_exporter": "python",
   "pygments_lexer": "ipython3",
   "version": "3.7.1"
  }
 },
 "nbformat": 4,
 "nbformat_minor": 2
}
